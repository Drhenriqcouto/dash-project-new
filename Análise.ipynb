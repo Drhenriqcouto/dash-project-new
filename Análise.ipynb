{
 "cells": [
  {
   "cell_type": "code",
   "execution_count": 1,
   "id": "4fc69ed9",
   "metadata": {},
   "outputs": [],
   "source": [
    "from pandas_datareader import data as web\n",
    "import yfinance as yf\n",
    "import pandas as pd\n",
    "import numpy as np\n",
    "from openpyxl import Workbook\n",
    "import xlsxwriter\n",
    "from openpyxl.utils.dataframe import dataframe_to_rows\n",
    "from datetime import datetime, timedelta\n",
    "import matplotlib.pyplot as plt\n",
    "import os\n",
    "import csv\n",
    "import plotly.graph_objects as go"
   ]
  },
  {
   "cell_type": "markdown",
   "id": "3e96dd8b",
   "metadata": {},
   "source": [
    "# Percentual em relação a Abertura do dia anterior"
   ]
  },
  {
   "cell_type": "code",
   "execution_count": 2,
   "id": "bc6d57a2",
   "metadata": {
    "scrolled": true
   },
   "outputs": [
    {
     "data": {
      "text/plain": [
       "dict_values(['AALL34.SA', 'AALR3.SA', 'ABCB4.SA', 'ABEV3.SA', 'AGRO3.SA', 'ALPA4.SA', 'ALSC3.SA', 'ALUP11.SA', 'AMAR3.SA', 'AMZO34.SA', 'ANIM3.SA', 'ARZZ3.SA', 'AZUL4.SA', 'B3SA3.SA', 'BBAS3.SA', 'BBDC3.SA', 'BBDC4.SA', 'BBRK3.SA', 'BBSE3.SA', 'BEEF3.SA', 'BKBR3.SA', 'BOEI34.SA', 'BPAC11.SA', 'BRAP4.SA', 'BRDT3.SA', 'BRFS3.SA', 'BRKM5.SA', 'BRML3.SA', 'BRPR3.SA', 'BRSR6.SA', 'BTOW3.SA', 'BVMF3.SA', 'CAML3.SA', 'CARD3.SA', 'CCRO3.SA', 'CESP6.SA', 'CGAS3.SA', 'CGAS5.SA', 'CIEL3.SA', 'CMIG3.SA', 'CMIG4.SA', 'CPFE3.SA', 'CPLE3.SA', 'CPLE6.SA', 'CRFB3.SA', 'CSAN3.SA', 'CSMG3.SA', 'CSNA3.SA', 'CVCB3.SA', 'CYRE3.SA', 'CZLT33.SA', 'DIRR3.SA', 'DTEX3.SA', 'ECOR3.SA', 'EGIE3.SA', 'ELET3.SA', 'ELET6.SA', 'ELPL3.SA', 'EMBR3.SA', 'ENBR3.SA', 'ENEV3.SA', 'ENGI11.SA', 'ENMT4.SA', 'EQTL3.SA', 'ESTC3.SA', 'ETER3.SA', 'EUCA4.SA', 'EVEN3.SA', 'EZTC3.SA', 'FESA4.SA', 'FIBR3.SA', 'FLRY3.SA', 'FRAS3.SA', 'GBIO33.SA', 'GFSA3.SA', 'GGBR3.SA', 'GGBR4.SA', 'GOAU3.SA', 'GOAU4.SA', 'GOLL4.SA', 'GRND3.SA', 'GUAR3.SA', 'GUAR4.SA', 'HBOR3.SA', 'HGTX3.SA', 'HOME34.SA', 'HYPE3.SA', 'IBOV11.SA', 'IGTA3.SA', 'IRBR3.SA', 'ITSA3.SA', 'ITSA4.SA', 'ITUB3.SA', 'ITUB4.SA', 'JBSS3.SA', 'JHSF3.SA', 'JPSA4.SA', 'JSLG3.SA', 'KEPL3.SA', 'KLBN11.SA', 'KROT3.SA', 'LAME3.SA', 'LAME4.SA', 'LCAM3.SA', 'LEVE3.SA', 'LIGT3.SA', 'LINX3.SA', 'LMTB34.SA', 'LPSB3.SA', 'LREN3.SA', 'MAGG3.SA', 'MDIA3.SA', 'MEAL3.SA', 'MGLU3.SA', 'MILS3.SA', 'MOVI3.SA', 'MPLU3.SA', 'MRFG3.SA', 'MRVE3.SA', 'MSCD34.SA', 'MULT3.SA', 'MYPK3.SA', 'NATU3.SA', 'ODPV3.SA', 'OMGE3.SA', 'PARD3.SA', 'PCAR4.SA', 'PETR3.SA', 'PETR4.SA', 'PFRM3.SA', 'PMAM3.SA', 'POMO4.SA', 'POSI3.SA', 'PRIO3.SA', 'PSSA3.SA', 'PTBL3.SA', 'QGEP3.SA', 'QUAL3.SA', 'RADL3.SA', 'RAIL3.SA', 'RAPT4.SA', 'RENT3.SA', 'RLOG3.SA', 'RNEW11.SA', 'ROMI3.SA', 'SANB11.SA', 'SAPR11.SA', 'SAPR4.SA', 'SBSP3.SA', 'SEER3.SA', 'SGPS3.SA', 'SHOW3.SA', 'SLCE3.SA', 'SLED4.SA', 'SMLS3.SA', 'SMTO3.SA', 'SSBR3.SA', 'STBP3.SA', 'SULA11.SA', 'SUZB3.SA', 'TAEE11.SA', 'TCSA3.SA', 'TECN3.SA', 'TEND3.SA', 'TGMA3.SA', 'TIET11.SA', 'TIMP3.SA', 'TOTS3.SA', 'TRIS3.SA', 'TRPL4.SA', 'TUPY3.SA', 'UCAS3.SA', 'UGPA3.SA', 'UNIP6.SA', 'USIM5.SA', 'VALE3.SA', 'VIVT3.SA', 'VIVT4.SA', 'VLID3.SA', 'VULC3.SA', 'VVAR11.SA', 'WEGE3.SA', 'WIZS3.SA'])"
      ]
     },
     "execution_count": 2,
     "metadata": {},
     "output_type": "execute_result"
    }
   ],
   "source": [
    "codigos = pd.read_excel('selecao.xlsx')\n",
    "codigos['Simbol']=codigos['codigo']+'.SA'\n",
    "#simbolos = codigos.to_dict()\n",
    "\n",
    "#valores = simbolos.values()\n",
    "\n",
    "lista = codigos.values.tolist()\n",
    "lista\n",
    "\n",
    "lista_ativos = {}\n",
    "for i in range(len(lista)):\n",
    "    lista_ativos[lista[i][0]] = lista[i][1]\n",
    "\n",
    "lista_ativos.values()"
   ]
  },
  {
   "cell_type": "code",
   "execution_count": 3,
   "id": "89ced53d",
   "metadata": {
    "scrolled": false
   },
   "outputs": [],
   "source": [
    "ativo = yf.Ticker(\"EGIE3.SA\")\n",
    "\n",
    "data_atual = datetime.now().strftime('%Y-%m-%d')\n",
    "cotacoes = ativo.history(start = '2022-01-01', end = data_atual)\n",
    "\n",
    "#cotacoes\n",
    "\n"
   ]
  },
  {
   "cell_type": "code",
   "execution_count": 4,
   "id": "ba3dd695",
   "metadata": {},
   "outputs": [],
   "source": [
    "df = pd.DataFrame()\n",
    "df.index = cotacoes.index\n",
    "df['Abertura']=cotacoes['Open']\n",
    "df['Fechamento']=cotacoes['Close']\n",
    "df['Máxima']=cotacoes['High']\n",
    "df['Mínima']=cotacoes['Low']\n",
    "df['Volume']=cotacoes['Volume']\n",
    "df['Atual'] = cotacoes['Close'] - cotacoes['Open'] \n",
    "df['A1'] = cotacoes['Close'].shift(1) - cotacoes['Open'].shift(1) \n",
    "df['A2'] = cotacoes['Close'].shift(2) - cotacoes['Open'].shift(2) "
   ]
  },
  {
   "cell_type": "code",
   "execution_count": 5,
   "id": "4ba68064",
   "metadata": {},
   "outputs": [],
   "source": [
    "df1 = pd.DataFrame()\n",
    "df1.index = cotacoes.index\n",
    "df1['Open']=cotacoes['Open']\n",
    "df1['Close']=cotacoes['Close']\n",
    "df1['High']=cotacoes['High']\n",
    "df1['Low']=cotacoes['Low']\n",
    "df1['Volume']=cotacoes['Volume']\n",
    "df1['Atual'] = cotacoes['Close'] - cotacoes['Open'] \n",
    "df1['A1'] = cotacoes['Close'].shift(1) - cotacoes['Open'].shift(1) \n",
    "df1['A2'] = cotacoes['Close'].shift(2) - cotacoes['Open'].shift(2) "
   ]
  },
  {
   "cell_type": "code",
   "execution_count": 6,
   "id": "aa21257d",
   "metadata": {},
   "outputs": [],
   "source": [
    "#Tratamento dos arquivos\n",
    "\n",
    "#df = pd.read_csv('ALPA4_DIARIO.csv',encoding='latin1', sep = ',')\n",
    "\n",
    "#df['Abertura']=df['Abertura'].str.replace(',','.')\n",
    "#df['Fechamento']=df['Fechamento'].str.replace(',','.')\n",
    "#df['Máxima']=df['Máxima'].str.replace(',','.')\n",
    "#df['Mínima']=df['Mínima'].str.replace(',','.')\n",
    "#df['ULT']=df['ULT'].str.replace(',','.')\n",
    "\n",
    "#df.to_excel('ALPA4_DIARIO.xlsx')"
   ]
  },
  {
   "cell_type": "code",
   "execution_count": 7,
   "id": "533f9ca1",
   "metadata": {},
   "outputs": [
    {
     "data": {
      "text/html": [
       "<div>\n",
       "<style scoped>\n",
       "    .dataframe tbody tr th:only-of-type {\n",
       "        vertical-align: middle;\n",
       "    }\n",
       "\n",
       "    .dataframe tbody tr th {\n",
       "        vertical-align: top;\n",
       "    }\n",
       "\n",
       "    .dataframe thead th {\n",
       "        text-align: right;\n",
       "    }\n",
       "</style>\n",
       "<table border=\"1\" class=\"dataframe\">\n",
       "  <thead>\n",
       "    <tr style=\"text-align: right;\">\n",
       "      <th></th>\n",
       "      <th>Abertura</th>\n",
       "      <th>Fechamento</th>\n",
       "      <th>Máxima</th>\n",
       "      <th>Mínima</th>\n",
       "      <th>Volume</th>\n",
       "      <th>Atual</th>\n",
       "      <th>A1</th>\n",
       "      <th>A2</th>\n",
       "    </tr>\n",
       "    <tr>\n",
       "      <th>Date</th>\n",
       "      <th></th>\n",
       "      <th></th>\n",
       "      <th></th>\n",
       "      <th></th>\n",
       "      <th></th>\n",
       "      <th></th>\n",
       "      <th></th>\n",
       "      <th></th>\n",
       "    </tr>\n",
       "  </thead>\n",
       "  <tbody>\n",
       "    <tr>\n",
       "      <th>2022-01-03 00:00:00-03:00</th>\n",
       "      <td>31.685286</td>\n",
       "      <td>31.306709</td>\n",
       "      <td>31.989793</td>\n",
       "      <td>31.117421</td>\n",
       "      <td>1133700</td>\n",
       "      <td>-0.378577</td>\n",
       "      <td>NaN</td>\n",
       "      <td>NaN</td>\n",
       "    </tr>\n",
       "    <tr>\n",
       "      <th>2022-01-04 00:00:00-03:00</th>\n",
       "      <td>31.306713</td>\n",
       "      <td>31.389011</td>\n",
       "      <td>31.570071</td>\n",
       "      <td>31.150342</td>\n",
       "      <td>1209200</td>\n",
       "      <td>0.082298</td>\n",
       "      <td>-0.378577</td>\n",
       "      <td>NaN</td>\n",
       "    </tr>\n",
       "    <tr>\n",
       "      <th>2022-01-05 00:00:00-03:00</th>\n",
       "      <td>31.380777</td>\n",
       "      <td>30.944588</td>\n",
       "      <td>31.463075</td>\n",
       "      <td>30.944588</td>\n",
       "      <td>1027600</td>\n",
       "      <td>-0.436189</td>\n",
       "      <td>0.082298</td>\n",
       "      <td>-0.378577</td>\n",
       "    </tr>\n",
       "    <tr>\n",
       "      <th>2022-01-06 00:00:00-03:00</th>\n",
       "      <td>31.010437</td>\n",
       "      <td>30.697699</td>\n",
       "      <td>31.207954</td>\n",
       "      <td>30.697699</td>\n",
       "      <td>1000600</td>\n",
       "      <td>-0.312739</td>\n",
       "      <td>-0.436189</td>\n",
       "      <td>0.082298</td>\n",
       "    </tr>\n",
       "    <tr>\n",
       "      <th>2022-01-07 00:00:00-03:00</th>\n",
       "      <td>30.689464</td>\n",
       "      <td>30.738842</td>\n",
       "      <td>31.133882</td>\n",
       "      <td>30.549554</td>\n",
       "      <td>1234100</td>\n",
       "      <td>0.049378</td>\n",
       "      <td>-0.312739</td>\n",
       "      <td>-0.436189</td>\n",
       "    </tr>\n",
       "    <tr>\n",
       "      <th>...</th>\n",
       "      <td>...</td>\n",
       "      <td>...</td>\n",
       "      <td>...</td>\n",
       "      <td>...</td>\n",
       "      <td>...</td>\n",
       "      <td>...</td>\n",
       "      <td>...</td>\n",
       "      <td>...</td>\n",
       "    </tr>\n",
       "    <tr>\n",
       "      <th>2024-08-15 00:00:00-03:00</th>\n",
       "      <td>45.165700</td>\n",
       "      <td>44.775414</td>\n",
       "      <td>45.175455</td>\n",
       "      <td>44.658329</td>\n",
       "      <td>805600</td>\n",
       "      <td>-0.390286</td>\n",
       "      <td>0.517126</td>\n",
       "      <td>0.029274</td>\n",
       "    </tr>\n",
       "    <tr>\n",
       "      <th>2024-08-16 00:00:00-03:00</th>\n",
       "      <td>45.155941</td>\n",
       "      <td>45.068127</td>\n",
       "      <td>45.331569</td>\n",
       "      <td>44.726629</td>\n",
       "      <td>1192000</td>\n",
       "      <td>-0.087814</td>\n",
       "      <td>-0.390286</td>\n",
       "      <td>0.517126</td>\n",
       "    </tr>\n",
       "    <tr>\n",
       "      <th>2024-08-19 00:00:00-03:00</th>\n",
       "      <td>45.243753</td>\n",
       "      <td>45.526711</td>\n",
       "      <td>45.760883</td>\n",
       "      <td>44.980311</td>\n",
       "      <td>896900</td>\n",
       "      <td>0.282957</td>\n",
       "      <td>-0.087814</td>\n",
       "      <td>-0.390286</td>\n",
       "    </tr>\n",
       "    <tr>\n",
       "      <th>2024-08-20 00:00:00-03:00</th>\n",
       "      <td>45.526712</td>\n",
       "      <td>45.399868</td>\n",
       "      <td>45.614526</td>\n",
       "      <td>45.165699</td>\n",
       "      <td>884000</td>\n",
       "      <td>-0.126844</td>\n",
       "      <td>0.282957</td>\n",
       "      <td>-0.087814</td>\n",
       "    </tr>\n",
       "    <tr>\n",
       "      <th>2024-08-21 00:00:00-03:00</th>\n",
       "      <td>45.409628</td>\n",
       "      <td>45.926754</td>\n",
       "      <td>46.043838</td>\n",
       "      <td>45.370599</td>\n",
       "      <td>1189000</td>\n",
       "      <td>0.517126</td>\n",
       "      <td>-0.126844</td>\n",
       "      <td>0.282957</td>\n",
       "    </tr>\n",
       "  </tbody>\n",
       "</table>\n",
       "<p>660 rows × 8 columns</p>\n",
       "</div>"
      ],
      "text/plain": [
       "                            Abertura  Fechamento     Máxima     Mínima  \\\n",
       "Date                                                                     \n",
       "2022-01-03 00:00:00-03:00  31.685286   31.306709  31.989793  31.117421   \n",
       "2022-01-04 00:00:00-03:00  31.306713   31.389011  31.570071  31.150342   \n",
       "2022-01-05 00:00:00-03:00  31.380777   30.944588  31.463075  30.944588   \n",
       "2022-01-06 00:00:00-03:00  31.010437   30.697699  31.207954  30.697699   \n",
       "2022-01-07 00:00:00-03:00  30.689464   30.738842  31.133882  30.549554   \n",
       "...                              ...         ...        ...        ...   \n",
       "2024-08-15 00:00:00-03:00  45.165700   44.775414  45.175455  44.658329   \n",
       "2024-08-16 00:00:00-03:00  45.155941   45.068127  45.331569  44.726629   \n",
       "2024-08-19 00:00:00-03:00  45.243753   45.526711  45.760883  44.980311   \n",
       "2024-08-20 00:00:00-03:00  45.526712   45.399868  45.614526  45.165699   \n",
       "2024-08-21 00:00:00-03:00  45.409628   45.926754  46.043838  45.370599   \n",
       "\n",
       "                            Volume     Atual        A1        A2  \n",
       "Date                                                              \n",
       "2022-01-03 00:00:00-03:00  1133700 -0.378577       NaN       NaN  \n",
       "2022-01-04 00:00:00-03:00  1209200  0.082298 -0.378577       NaN  \n",
       "2022-01-05 00:00:00-03:00  1027600 -0.436189  0.082298 -0.378577  \n",
       "2022-01-06 00:00:00-03:00  1000600 -0.312739 -0.436189  0.082298  \n",
       "2022-01-07 00:00:00-03:00  1234100  0.049378 -0.312739 -0.436189  \n",
       "...                            ...       ...       ...       ...  \n",
       "2024-08-15 00:00:00-03:00   805600 -0.390286  0.517126  0.029274  \n",
       "2024-08-16 00:00:00-03:00  1192000 -0.087814 -0.390286  0.517126  \n",
       "2024-08-19 00:00:00-03:00   896900  0.282957 -0.087814 -0.390286  \n",
       "2024-08-20 00:00:00-03:00   884000 -0.126844  0.282957 -0.087814  \n",
       "2024-08-21 00:00:00-03:00  1189000  0.517126 -0.126844  0.282957  \n",
       "\n",
       "[660 rows x 8 columns]"
      ]
     },
     "execution_count": 7,
     "metadata": {},
     "output_type": "execute_result"
    }
   ],
   "source": [
    "df"
   ]
  },
  {
   "cell_type": "code",
   "execution_count": 8,
   "id": "77d9891b",
   "metadata": {},
   "outputs": [],
   "source": [
    "Var_Fechamento = df['Fechamento']/df['Fechamento'].shift(1) - 1\n",
    "Var_Abertura = df['Abertura']/df['Fechamento'].shift(1) - 1 \n",
    "Var_Maxima = df['Máxima']/df['Fechamento'].shift(1) - 1\n",
    "Var_Minima = df['Mínima']/df['Fechamento'].shift(1) - 1"
   ]
  },
  {
   "cell_type": "code",
   "execution_count": 9,
   "id": "0662cb6a",
   "metadata": {},
   "outputs": [],
   "source": [
    "df1 = pd.DataFrame()\n",
    "df1['Abertura'] = Var_Abertura\n",
    "df1['Fechamento'] = Var_Fechamento\n",
    "df1['Maxima'] = Var_Maxima\n",
    "df1['Mínima'] = Var_Minima"
   ]
  },
  {
   "cell_type": "code",
   "execution_count": 10,
   "id": "211545b1",
   "metadata": {},
   "outputs": [],
   "source": [
    "#fig, ax = plt.subplots(4, 1, sharex = True, figsize = (10,20))\n",
    "\n",
    "#ax[0].plot(df1['Abertura'].tail(20), color = 'red')\n",
    "#ax[1].plot(df1['Fechamento'].tail(20))\n",
    "#ax[2].plot(df1['Maxima'].tail(20), color = 'green')\n",
    "#ax[3].plot(df1['Mínima'].tail(20), color = 'black')"
   ]
  },
  {
   "cell_type": "markdown",
   "id": "b85fd757",
   "metadata": {},
   "source": [
    "#### Contador = 0 (Condição de entrada (Compra na baixa))\n",
    "#### Contador = 1 (Condição de entrada (Venda na alta))\n",
    "#### Contador = 2 (Condição de entrada (Venda na baixa))\n",
    "#### Contador = -2 (Condição de entrada (Compra na alta))"
   ]
  },
  {
   "cell_type": "markdown",
   "id": "a0dfacb3",
   "metadata": {},
   "source": [
    "## Estratégia"
   ]
  },
  {
   "cell_type": "code",
   "execution_count": 11,
   "id": "0d383ccf",
   "metadata": {
    "scrolled": true
   },
   "outputs": [],
   "source": [
    " \n",
    "# Operações do tipo compra: Valor < 0\n",
    "# Operações do tipo venda: Valor > 0\n",
    "\n",
    "contador = 0\n",
    "valor = 0.02\n",
    "bet_size = 1000\n",
    "\n",
    "\n",
    "listadetrades = []\n",
    "#coma = df1.iterrows()\n",
    "coma = df.tail(250).iterrows()\n",
    "\n",
    "for idx, row in coma:\n",
    "    entrada_comprada = row['Abertura'] - (row['Abertura']*valor)\n",
    "    entrada_vendida = row['Abertura'] + (row['Abertura']*valor)\n",
    "    entrada_comprada1 = row['Abertura'] + (row['Abertura']*valor)\n",
    "    entrada_vendida1 = row['Abertura'] - (row['Abertura']*valor)\n",
    "    \n",
    "    if contador == 0:\n",
    "    #Condição de entrada\n",
    "        if ((entrada_comprada - row['Mínima']) >= 0) & (row['A1']<0):\n",
    "            resultado = (row['Fechamento']-entrada_comprada)*bet_size\n",
    "            listadetrades += [{'price':row['Fechamento'], \n",
    "                           'time': idx, \n",
    "                           'kind':'buy', \n",
    "                           'quantidade': bet_size, \n",
    "                           'Resultado': resultado, \n",
    "                           'Entrada':entrada_comprada,\n",
    "                            'Ajuste': row['A1']}]\n",
    "    elif contador == 1: \n",
    "        if (entrada_vendida <= row['Máxima']) & (row['A1']>0):\n",
    "            resultado = (entrada_vendida - row['Fechamento'])*bet_size\n",
    "            stoploss = row['Máxima'] - entrada_vendida\n",
    "            vol = row['Máxima'] - row['Mínima']\n",
    "            listadetrades += [{'price':row['Fechamento'], \n",
    "                           'time': idx, \n",
    "                           'kind':'sell', \n",
    "                           'quantidade': bet_size, \n",
    "                           'Resultado': resultado, \n",
    "                           'Entrada': entrada_vendida,\n",
    "                            'Ajuste': row['A1']}]\n",
    "    if contador == 2:\n",
    "    #Condição de entrada (Venda na queda)\n",
    "        if ((entrada_vendida1 - row['Mínima']) >= 0) & (row['A1']<0):\n",
    "            resultado = (entrada_vendida1 - row['Fechamento'])*bet_size\n",
    "            listadetrades += [{'price':row['Fechamento'], \n",
    "                           'time': idx, \n",
    "                           'kind':'sell', \n",
    "                           'quantidade': bet_size, \n",
    "                           'Resultado': resultado, \n",
    "                           'Entrada':entrada_vendida1,\n",
    "                            'Ajuste': row['A1']}]\n",
    "    elif contador == -2: \n",
    "        #Condição de entrada (Compra na alta)\n",
    "        if (entrada_comprada1 - row['Máxima']) <= 0:\n",
    "            resultado = (row['Fechamento']-entrada_comprada1)*bet_size\n",
    "            listadetrades += [{'price':row['Fechamento'], \n",
    "                           'time': idx, \n",
    "                           'kind':'buy', \n",
    "                           'quantidade': bet_size, \n",
    "                           'Resultado': resultado, \n",
    "                           'Entrada': entrada_comprada1,\n",
    "                            'Ajuste': row['A1']}]\n",
    "       \n",
    "    df_trades_raw = pd.DataFrame(listadetrades)\n"
   ]
  },
  {
   "cell_type": "code",
   "execution_count": 12,
   "id": "b15035b6",
   "metadata": {},
   "outputs": [],
   "source": [
    "df_trades1 = df_trades_raw"
   ]
  },
  {
   "cell_type": "code",
   "execution_count": 13,
   "id": "6cf074bb",
   "metadata": {},
   "outputs": [
    {
     "data": {
      "text/html": [
       "<div>\n",
       "<style scoped>\n",
       "    .dataframe tbody tr th:only-of-type {\n",
       "        vertical-align: middle;\n",
       "    }\n",
       "\n",
       "    .dataframe tbody tr th {\n",
       "        vertical-align: top;\n",
       "    }\n",
       "\n",
       "    .dataframe thead th {\n",
       "        text-align: right;\n",
       "    }\n",
       "</style>\n",
       "<table border=\"1\" class=\"dataframe\">\n",
       "  <thead>\n",
       "    <tr style=\"text-align: right;\">\n",
       "      <th></th>\n",
       "      <th>price</th>\n",
       "      <th>time</th>\n",
       "      <th>kind</th>\n",
       "      <th>quantidade</th>\n",
       "      <th>Resultado</th>\n",
       "      <th>Entrada</th>\n",
       "      <th>Ajuste</th>\n",
       "    </tr>\n",
       "  </thead>\n",
       "  <tbody>\n",
       "    <tr>\n",
       "      <th>0</th>\n",
       "      <td>39.554104</td>\n",
       "      <td>2023-09-26 00:00:00-03:00</td>\n",
       "      <td>buy</td>\n",
       "      <td>1000</td>\n",
       "      <td>189.461380</td>\n",
       "      <td>39.364642</td>\n",
       "      <td>-0.340004</td>\n",
       "    </tr>\n",
       "    <tr>\n",
       "      <th>1</th>\n",
       "      <td>38.770203</td>\n",
       "      <td>2023-09-27 00:00:00-03:00</td>\n",
       "      <td>buy</td>\n",
       "      <td>1000</td>\n",
       "      <td>7.176209</td>\n",
       "      <td>38.763026</td>\n",
       "      <td>-0.613899</td>\n",
       "    </tr>\n",
       "    <tr>\n",
       "      <th>2</th>\n",
       "      <td>38.308949</td>\n",
       "      <td>2024-01-29 00:00:00-03:00</td>\n",
       "      <td>buy</td>\n",
       "      <td>1000</td>\n",
       "      <td>115.688299</td>\n",
       "      <td>38.193260</td>\n",
       "      <td>-0.369813</td>\n",
       "    </tr>\n",
       "    <tr>\n",
       "      <th>3</th>\n",
       "      <td>44.492455</td>\n",
       "      <td>2024-07-19 00:00:00-03:00</td>\n",
       "      <td>buy</td>\n",
       "      <td>1000</td>\n",
       "      <td>306.568020</td>\n",
       "      <td>44.185887</td>\n",
       "      <td>-0.595185</td>\n",
       "    </tr>\n",
       "    <tr>\n",
       "      <th>4</th>\n",
       "      <td>43.263062</td>\n",
       "      <td>2024-07-24 00:00:00-03:00</td>\n",
       "      <td>buy</td>\n",
       "      <td>1000</td>\n",
       "      <td>-81.375966</td>\n",
       "      <td>43.344437</td>\n",
       "      <td>-0.175628</td>\n",
       "    </tr>\n",
       "  </tbody>\n",
       "</table>\n",
       "</div>"
      ],
      "text/plain": [
       "       price                      time kind  quantidade   Resultado  \\\n",
       "0  39.554104 2023-09-26 00:00:00-03:00  buy        1000  189.461380   \n",
       "1  38.770203 2023-09-27 00:00:00-03:00  buy        1000    7.176209   \n",
       "2  38.308949 2024-01-29 00:00:00-03:00  buy        1000  115.688299   \n",
       "3  44.492455 2024-07-19 00:00:00-03:00  buy        1000  306.568020   \n",
       "4  43.263062 2024-07-24 00:00:00-03:00  buy        1000  -81.375966   \n",
       "\n",
       "     Entrada    Ajuste  \n",
       "0  39.364642 -0.340004  \n",
       "1  38.763026 -0.613899  \n",
       "2  38.193260 -0.369813  \n",
       "3  44.185887 -0.595185  \n",
       "4  43.344437 -0.175628  "
      ]
     },
     "execution_count": 13,
     "metadata": {},
     "output_type": "execute_result"
    }
   ],
   "source": [
    "df_trades1"
   ]
  },
  {
   "cell_type": "code",
   "execution_count": 14,
   "id": "fbebcd87",
   "metadata": {
    "scrolled": true
   },
   "outputs": [
    {
     "data": {
      "text/plain": [
       "537.5179417985835"
      ]
     },
     "execution_count": 14,
     "metadata": {},
     "output_type": "execute_result"
    }
   ],
   "source": [
    "df_trades_raw['Resultado'].sum()"
   ]
  },
  {
   "cell_type": "markdown",
   "id": "ff01d9f7",
   "metadata": {},
   "source": [
    "### ------------------------------------------------------"
   ]
  },
  {
   "cell_type": "markdown",
   "id": "b4370f99",
   "metadata": {},
   "source": [
    "# Pior dia"
   ]
  },
  {
   "cell_type": "code",
   "execution_count": 15,
   "id": "2ce64d39",
   "metadata": {},
   "outputs": [
    {
     "data": {
      "text/plain": [
       "-81.37596639398481"
      ]
     },
     "execution_count": 15,
     "metadata": {},
     "output_type": "execute_result"
    }
   ],
   "source": [
    "df_trades_raw['Resultado'].min()"
   ]
  },
  {
   "cell_type": "markdown",
   "id": "b2e06e4e",
   "metadata": {},
   "source": [
    "### ------------------------------------------------------\n",
    "# Melhor dia"
   ]
  },
  {
   "cell_type": "code",
   "execution_count": 16,
   "id": "6980445b",
   "metadata": {},
   "outputs": [
    {
     "data": {
      "text/plain": [
       "306.56801995651506"
      ]
     },
     "execution_count": 16,
     "metadata": {},
     "output_type": "execute_result"
    }
   ],
   "source": [
    "df_trades_raw['Resultado'].max()"
   ]
  },
  {
   "cell_type": "markdown",
   "id": "b1d2fd9f",
   "metadata": {},
   "source": [
    "### ------------------------------------------------------"
   ]
  },
  {
   "cell_type": "markdown",
   "id": "baee35c6",
   "metadata": {},
   "source": [
    "# Ganho médio"
   ]
  },
  {
   "cell_type": "code",
   "execution_count": 17,
   "id": "23e34d47",
   "metadata": {},
   "outputs": [
    {
     "name": "stdout",
     "output_type": "stream",
     "text": [
      "26.01 % ao dia\n"
     ]
    }
   ],
   "source": [
    "ganho_medio = pd.DataFrame()\n",
    "\n",
    "ganho_medio['Ganho Médio'] = (df_trades_raw['Resultado']/(df_trades_raw['price']*10))\n",
    "\n",
    "valor = ganho_medio['Ganho Médio'].mean()\n",
    "\n",
    "print(round(valor*100,2),'% ao dia')\n"
   ]
  },
  {
   "cell_type": "markdown",
   "id": "dfa76744",
   "metadata": {},
   "source": [
    "### ------------------------------------------------------"
   ]
  },
  {
   "cell_type": "markdown",
   "id": "075e914a",
   "metadata": {},
   "source": [
    "# Dados percentuais"
   ]
  },
  {
   "cell_type": "code",
   "execution_count": 18,
   "id": "4dbcbd9f",
   "metadata": {},
   "outputs": [],
   "source": [
    "x = ((df_trades1['Resultado']>0) == True).sum()\n",
    "y = ((df_trades1['Resultado']>0) == False).sum()"
   ]
  },
  {
   "cell_type": "code",
   "execution_count": 19,
   "id": "1bea14b7",
   "metadata": {},
   "outputs": [
    {
     "name": "stdout",
     "output_type": "stream",
     "text": [
      "Seu percentual de acerto é: 80.0%\n",
      "Seu percentual de erro é: 20.0%\n"
     ]
    }
   ],
   "source": [
    "# Contando os gains e Loss\n",
    "gain = round((x/(x+y))*100,2)\n",
    "loss = round((y/(x+y))*100,2)\n",
    "print('Seu percentual de acerto é: {}%'.format(gain))\n",
    "print('Seu percentual de erro é: {}%'.format(loss))"
   ]
  },
  {
   "cell_type": "code",
   "execution_count": 20,
   "id": "f3159630",
   "metadata": {},
   "outputs": [],
   "source": [
    "df_trades1['Position'] = df_trades1['quantidade'].fillna(0).cumsum()"
   ]
  },
  {
   "cell_type": "code",
   "execution_count": 21,
   "id": "f2b37434",
   "metadata": {},
   "outputs": [
    {
     "data": {
      "text/plain": [
       "kind\n",
       "buy    5\n",
       "Name: count, dtype: int64"
      ]
     },
     "execution_count": 21,
     "metadata": {},
     "output_type": "execute_result"
    }
   ],
   "source": [
    "df_trades1['kind'].value_counts()"
   ]
  },
  {
   "cell_type": "markdown",
   "id": "8934759e",
   "metadata": {},
   "source": [
    "### ------------------------------------------------------"
   ]
  },
  {
   "cell_type": "markdown",
   "id": "a685c7f9",
   "metadata": {},
   "source": [
    "## Avaliando a estratéia"
   ]
  },
  {
   "cell_type": "code",
   "execution_count": 22,
   "id": "9b82c02a",
   "metadata": {},
   "outputs": [],
   "source": [
    "#df_trades1['ret_mercado'] = df_trades1['<CLOSE>']-df_trades1['<CLOSE>'].shift(1)\n",
    "#df_trades1['ret_mercado'] = df_trades1['Resultado']\n",
    "#df_trades1['ret'] = df_trades1['ret_mercado']*df_trades1['Position']\n",
    "#df_trades1['ret_acumulado'] = df_trades1['ret'].cumsum()\n",
    "df_trades1['ret_acumulado']=df_trades1['Resultado'].cumsum()"
   ]
  },
  {
   "cell_type": "code",
   "execution_count": 23,
   "id": "739c9e09",
   "metadata": {},
   "outputs": [
    {
     "data": {
      "text/plain": [
       "<Axes: >"
      ]
     },
     "execution_count": 23,
     "metadata": {},
     "output_type": "execute_result"
    },
    {
     "data": {
      "image/png": "[encoded data removed]",
      "text/plain": [
       "<Figure size 640x480 with 1 Axes>"
      ]
     },
     "metadata": {},
     "output_type": "display_data"
    }
   ],
   "source": [
    "df_trades1['ret_acumulado'].plot()"
   ]
  },
  {
   "cell_type": "markdown",
   "id": "e7832615",
   "metadata": {},
   "source": [
    "## ----------------------------------------\n",
    "##  Otimização de Parâmetros \n",
    "## ----------------------------------------"
   ]
  },
  {
   "cell_type": "markdown",
   "id": "7900db65",
   "metadata": {},
   "source": [
    "# Drawdown"
   ]
  },
  {
   "cell_type": "code",
   "execution_count": 24,
   "id": "0fb77b12",
   "metadata": {},
   "outputs": [],
   "source": [
    "capital_inicial = 100\n",
    "\n",
    "df_trades1['ret_acumulado'] += capital_inicial"
   ]
  },
  {
   "cell_type": "code",
   "execution_count": 25,
   "id": "cb1a4828",
   "metadata": {},
   "outputs": [],
   "source": [
    "lucro = (df_trades1['Resultado'].sum())"
   ]
  },
  {
   "cell_type": "code",
   "execution_count": 26,
   "id": "919424ad",
   "metadata": {},
   "outputs": [
    {
     "data": {
      "text/plain": [
       "<Axes: >"
      ]
     },
     "execution_count": 26,
     "metadata": {},
     "output_type": "execute_result"
    },
    {
     "data": {
      "image/png": "[encoded data removed]",
      "text/plain": [
       "<Figure size 640x480 with 1 Axes>"
      ]
     },
     "metadata": {},
     "output_type": "display_data"
    }
   ],
   "source": [
    "df_trades1['ret_acumulado'].plot()"
   ]
  },
  {
   "cell_type": "code",
   "execution_count": 27,
   "id": "1b02c832",
   "metadata": {},
   "outputs": [],
   "source": [
    "# Calculando o valor máximo\n",
    "df_trades1['max_cum'] = df_trades1['ret_acumulado'].cummax()\n",
    "df_trades1['min_cum'] = df_trades1['ret_acumulado'].cummin()"
   ]
  },
  {
   "cell_type": "code",
   "execution_count": 28,
   "id": "a5680227",
   "metadata": {},
   "outputs": [
    {
     "data": {
      "text/plain": [
       "-0.11319607172437851"
      ]
     },
     "execution_count": 28,
     "metadata": {},
     "output_type": "execute_result"
    }
   ],
   "source": [
    "# Calculando drawdown\n",
    "draw = df_trades1['drawdown'] = df_trades1['ret_acumulado']/df_trades1['max_cum'] - 1\n",
    "draw.min()"
   ]
  },
  {
   "cell_type": "code",
   "execution_count": 29,
   "id": "e7340049",
   "metadata": {},
   "outputs": [],
   "source": [
    "# Calculando ganho máximo perda máxima\n",
    "ganho_max0 = df_trades1['Resultado'].max()/capital_inicial\n",
    "ganho_max = round(ganho_max0*100,2)\n",
    "\n",
    "perda_max0 = df_trades1['Resultado'].min()/capital_inicial\n",
    "perda_max = round(perda_max0*100,2)"
   ]
  },
  {
   "cell_type": "code",
   "execution_count": 30,
   "id": "bb297384",
   "metadata": {
    "scrolled": true
   },
   "outputs": [
    {
     "data": {
      "text/plain": [
       "[<matplotlib.lines.Line2D at 0x1fed28ae640>]"
      ]
     },
     "execution_count": 30,
     "metadata": {},
     "output_type": "execute_result"
    },
    {
     "data": {
      "image/png": "[encoded data removed]",
      "text/plain": [
       "<Figure size 2000x800 with 2 Axes>"
      ]
     },
     "metadata": {},
     "output_type": "display_data"
    }
   ],
   "source": [
    "fig, ax = plt.subplots(2, 1, sharex = True, figsize = (20,8))\n",
    "\n",
    "ax[0].plot(df_trades1['ret_acumulado'])\n",
    "ax[1].plot(df_trades1['drawdown'], color = 'red')\n"
   ]
  },
  {
   "cell_type": "markdown",
   "id": "a4f505a8",
   "metadata": {},
   "source": [
    "## ----------------------------------------"
   ]
  },
  {
   "cell_type": "markdown",
   "id": "76634b8b",
   "metadata": {},
   "source": [
    "# Underwater period"
   ]
  },
  {
   "cell_type": "code",
   "execution_count": 31,
   "id": "8be47499",
   "metadata": {},
   "outputs": [],
   "source": [
    "# Calculando o periodo de drawdown\n",
    "df_trades1['underwater'] = df_trades1['ret_acumulado'] < df_trades1['max_cum']"
   ]
  },
  {
   "cell_type": "code",
   "execution_count": 32,
   "id": "39086697",
   "metadata": {
    "scrolled": true
   },
   "outputs": [
    {
     "data": {
      "text/plain": [
       "0.125"
      ]
     },
     "execution_count": 32,
     "metadata": {},
     "output_type": "execute_result"
    }
   ],
   "source": [
    "df_trades1['underwater'].sum()/8"
   ]
  },
  {
   "cell_type": "markdown",
   "id": "94e8c00b",
   "metadata": {},
   "source": [
    "## ----------------------------------------"
   ]
  },
  {
   "cell_type": "markdown",
   "id": "ea84310d",
   "metadata": {},
   "source": [
    "# Índice Sharpe"
   ]
  },
  {
   "cell_type": "code",
   "execution_count": 33,
   "id": "42494f75",
   "metadata": {
    "scrolled": true
   },
   "outputs": [
    {
     "data": {
      "text/plain": [
       "0.7082736377354557"
      ]
     },
     "execution_count": 33,
     "metadata": {},
     "output_type": "execute_result"
    }
   ],
   "source": [
    "df_trades1['Resultado'].groupby(df_trades1.index).sum().mean()/df_trades1['Resultado'].groupby(df_trades1.index).sum().std()"
   ]
  },
  {
   "cell_type": "markdown",
   "id": "98f2fbd1",
   "metadata": {},
   "source": [
    "## ----------------------------------------"
   ]
  },
  {
   "cell_type": "markdown",
   "id": "cd93a93f",
   "metadata": {},
   "source": [
    "# Resumo operacional"
   ]
  },
  {
   "cell_type": "code",
   "execution_count": 34,
   "id": "419b10b8",
   "metadata": {},
   "outputs": [],
   "source": [
    "capital_final = round(capital_inicial+lucro,2)"
   ]
  },
  {
   "cell_type": "code",
   "execution_count": 35,
   "id": "3525f3f0",
   "metadata": {},
   "outputs": [],
   "source": [
    "def resumo():  \n",
    "    Resultado = round((lucro/capital_inicial)*100,2)\n",
    "    print('Operação do tipo {}'.format(listadetrades[0]['kind']))\n",
    "    print('Seu percentual de acerto é: {} %'.format(gain))\n",
    "    print('Seu percentual de erro é: {} %'.format(loss))\n",
    "    print('Seu ganho máximo foi de: {} % do capital inicial.'.format(ganho_max))\n",
    "    print('Sua perda máxima foi de: {} % do capital inicial.'.format(perda_max))\n",
    "    print('')\n",
    "    print('Seu resultado final foi de: {} % do capital inicial.'.format(Resultado))\n",
    "    print('')\n",
    "    print('Capital inicial: R${}'.format(capital_inicial) + ' ' + 'Capital final: R${}'.format(capital_final))"
   ]
  },
  {
   "cell_type": "code",
   "execution_count": 36,
   "id": "770f950f",
   "metadata": {},
   "outputs": [
    {
     "name": "stdout",
     "output_type": "stream",
     "text": [
      "Operação do tipo buy\n",
      "Seu percentual de acerto é: 80.0 %\n",
      "Seu percentual de erro é: 20.0 %\n",
      "Seu ganho máximo foi de: 306.57 % do capital inicial.\n",
      "Sua perda máxima foi de: -81.38 % do capital inicial.\n",
      "\n",
      "Seu resultado final foi de: 537.52 % do capital inicial.\n",
      "\n",
      "Capital inicial: R$100 Capital final: R$637.52\n"
     ]
    }
   ],
   "source": [
    "resumo()"
   ]
  }
 ],
 "metadata": {
  "kernelspec": {
   "display_name": "Python 3 (ipykernel)",
   "language": "python",
   "name": "python3"
  },
  "language_info": {
   "codemirror_mode": {
    "name": "ipython",
    "version": 3
   },
   "file_extension": ".py",
   "mimetype": "text/x-python",
   "name": "python",
   "nbconvert_exporter": "python",
   "pygments_lexer": "ipython3",
   "version": "3.8.18"
  }
 },
 "nbformat": 4,
 "nbformat_minor": 5
}
